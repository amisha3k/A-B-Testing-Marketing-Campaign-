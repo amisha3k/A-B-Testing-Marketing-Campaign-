{
 "cells": [
  {
   "cell_type": "code",
   "execution_count": 2,
   "id": "e285c270",
   "metadata": {},
   "outputs": [],
   "source": [
    "import pandas as pd\n",
    "import matplotlib.pyplot as plt\n",
    "import seaborn as sns\n",
    "import numpy as np\n",
    "from sklearn.linear_model import LinearRegression\n",
    "from statsmodels.tsa.seasonal import seasonal_decompose\n",
    "from statsmodels.tsa.stattools import coint\n"
   ]
  },
  {
   "cell_type": "code",
   "execution_count": 3,
   "id": "a409a40d",
   "metadata": {},
   "outputs": [],
   "source": [
    "df=pd.read_csv('mar_campaign.csv')"
   ]
  },
  {
   "cell_type": "code",
   "execution_count": 4,
   "id": "63e224e0",
   "metadata": {},
   "outputs": [
    {
     "data": {
      "text/html": [
       "<div>\n",
       "<style scoped>\n",
       "    .dataframe tbody tr th:only-of-type {\n",
       "        vertical-align: middle;\n",
       "    }\n",
       "\n",
       "    .dataframe tbody tr th {\n",
       "        vertical-align: top;\n",
       "    }\n",
       "\n",
       "    .dataframe thead th {\n",
       "        text-align: right;\n",
       "    }\n",
       "</style>\n",
       "<table border=\"1\" class=\"dataframe\">\n",
       "  <thead>\n",
       "    <tr style=\"text-align: right;\">\n",
       "      <th></th>\n",
       "      <th>Date</th>\n",
       "      <th>Facebook Ad Campaign</th>\n",
       "      <th>Facebook Ad Views</th>\n",
       "      <th>Facebook Ad Clicks</th>\n",
       "      <th>Facebook Ad Conversions</th>\n",
       "      <th>Cost per Facebook Ad</th>\n",
       "      <th>Facebook Click-Through Rate (Clicks / View)</th>\n",
       "      <th>Facebook Conversion Rate (Conversions / Clicks)</th>\n",
       "      <th>Facebook Cost per Click (Ad Cost / Clicks)</th>\n",
       "      <th>AdWords Ad Campaign</th>\n",
       "      <th>AdWords Ad Views</th>\n",
       "      <th>AdWords Ad Clicks</th>\n",
       "      <th>AdWords Ad Conversions</th>\n",
       "      <th>Cost per AdWords Ad</th>\n",
       "      <th>AdWords Click-Through Rate (Clicks / View)</th>\n",
       "      <th>AdWords Conversion Rate (Conversions / Click)</th>\n",
       "      <th>AdWords Cost per Click (Ad Cost / Clicks)</th>\n",
       "    </tr>\n",
       "  </thead>\n",
       "  <tbody>\n",
       "    <tr>\n",
       "      <th>0</th>\n",
       "      <td>1/1/2019</td>\n",
       "      <td>FB_Jan19</td>\n",
       "      <td>2116</td>\n",
       "      <td>18</td>\n",
       "      <td>8</td>\n",
       "      <td>$126</td>\n",
       "      <td>0.83%</td>\n",
       "      <td>42.73%</td>\n",
       "      <td>$7.14</td>\n",
       "      <td>AW_Jan19</td>\n",
       "      <td>4984</td>\n",
       "      <td>59</td>\n",
       "      <td>5</td>\n",
       "      <td>$194</td>\n",
       "      <td>1.18%</td>\n",
       "      <td>8.40%</td>\n",
       "      <td>$3.30</td>\n",
       "    </tr>\n",
       "    <tr>\n",
       "      <th>1</th>\n",
       "      <td>1/2/2019</td>\n",
       "      <td>FB_Jan19</td>\n",
       "      <td>3106</td>\n",
       "      <td>36</td>\n",
       "      <td>12</td>\n",
       "      <td>$104</td>\n",
       "      <td>1.15%</td>\n",
       "      <td>34.04%</td>\n",
       "      <td>$2.91</td>\n",
       "      <td>AW_Jan19</td>\n",
       "      <td>4022</td>\n",
       "      <td>71</td>\n",
       "      <td>6</td>\n",
       "      <td>$75</td>\n",
       "      <td>1.77%</td>\n",
       "      <td>7.80%</td>\n",
       "      <td>$1.05</td>\n",
       "    </tr>\n",
       "    <tr>\n",
       "      <th>2</th>\n",
       "      <td>1/3/2019</td>\n",
       "      <td>FB_Jan19</td>\n",
       "      <td>3105</td>\n",
       "      <td>26</td>\n",
       "      <td>8</td>\n",
       "      <td>$102</td>\n",
       "      <td>0.84%</td>\n",
       "      <td>31.45%</td>\n",
       "      <td>$3.89</td>\n",
       "      <td>AW_Jan19</td>\n",
       "      <td>3863</td>\n",
       "      <td>44</td>\n",
       "      <td>4</td>\n",
       "      <td>$141</td>\n",
       "      <td>1.13%</td>\n",
       "      <td>9.59%</td>\n",
       "      <td>$3.23</td>\n",
       "    </tr>\n",
       "    <tr>\n",
       "      <th>3</th>\n",
       "      <td>1/4/2019</td>\n",
       "      <td>FB_Jan19</td>\n",
       "      <td>1107</td>\n",
       "      <td>27</td>\n",
       "      <td>9</td>\n",
       "      <td>$71</td>\n",
       "      <td>2.45%</td>\n",
       "      <td>34.76%</td>\n",
       "      <td>$2.62</td>\n",
       "      <td>AW_Jan19</td>\n",
       "      <td>3911</td>\n",
       "      <td>49</td>\n",
       "      <td>5</td>\n",
       "      <td>$141</td>\n",
       "      <td>1.26%</td>\n",
       "      <td>11.08%</td>\n",
       "      <td>$2.86</td>\n",
       "    </tr>\n",
       "    <tr>\n",
       "      <th>4</th>\n",
       "      <td>1/5/2019</td>\n",
       "      <td>FB_Jan19</td>\n",
       "      <td>1317</td>\n",
       "      <td>15</td>\n",
       "      <td>7</td>\n",
       "      <td>$78</td>\n",
       "      <td>1.10%</td>\n",
       "      <td>47.59%</td>\n",
       "      <td>$5.38</td>\n",
       "      <td>AW_Jan19</td>\n",
       "      <td>4070</td>\n",
       "      <td>55</td>\n",
       "      <td>7</td>\n",
       "      <td>$133</td>\n",
       "      <td>1.36%</td>\n",
       "      <td>12.22%</td>\n",
       "      <td>$2.40</td>\n",
       "    </tr>\n",
       "  </tbody>\n",
       "</table>\n",
       "</div>"
      ],
      "text/plain": [
       "       Date Facebook Ad Campaign  Facebook Ad Views  Facebook Ad Clicks  \\\n",
       "0  1/1/2019             FB_Jan19               2116                  18   \n",
       "1  1/2/2019             FB_Jan19               3106                  36   \n",
       "2  1/3/2019             FB_Jan19               3105                  26   \n",
       "3  1/4/2019             FB_Jan19               1107                  27   \n",
       "4  1/5/2019             FB_Jan19               1317                  15   \n",
       "\n",
       "   Facebook Ad Conversions Cost per Facebook Ad  \\\n",
       "0                        8                 $126   \n",
       "1                       12                 $104   \n",
       "2                        8                 $102   \n",
       "3                        9                  $71   \n",
       "4                        7                  $78   \n",
       "\n",
       "  Facebook Click-Through Rate (Clicks / View)  \\\n",
       "0                                       0.83%   \n",
       "1                                       1.15%   \n",
       "2                                       0.84%   \n",
       "3                                       2.45%   \n",
       "4                                       1.10%   \n",
       "\n",
       "  Facebook Conversion Rate (Conversions / Clicks)  \\\n",
       "0                                          42.73%   \n",
       "1                                          34.04%   \n",
       "2                                          31.45%   \n",
       "3                                          34.76%   \n",
       "4                                          47.59%   \n",
       "\n",
       "  Facebook Cost per Click (Ad Cost / Clicks) AdWords Ad Campaign  \\\n",
       "0                                      $7.14            AW_Jan19   \n",
       "1                                      $2.91            AW_Jan19   \n",
       "2                                      $3.89            AW_Jan19   \n",
       "3                                      $2.62            AW_Jan19   \n",
       "4                                      $5.38            AW_Jan19   \n",
       "\n",
       "   AdWords Ad Views  AdWords Ad Clicks  AdWords Ad Conversions  \\\n",
       "0              4984                 59                       5   \n",
       "1              4022                 71                       6   \n",
       "2              3863                 44                       4   \n",
       "3              3911                 49                       5   \n",
       "4              4070                 55                       7   \n",
       "\n",
       "  Cost per AdWords Ad AdWords Click-Through Rate (Clicks / View)  \\\n",
       "0                $194                                      1.18%   \n",
       "1                 $75                                      1.77%   \n",
       "2                $141                                      1.13%   \n",
       "3                $141                                      1.26%   \n",
       "4                $133                                      1.36%   \n",
       "\n",
       "  AdWords Conversion Rate (Conversions / Click)  \\\n",
       "0                                         8.40%   \n",
       "1                                         7.80%   \n",
       "2                                         9.59%   \n",
       "3                                        11.08%   \n",
       "4                                        12.22%   \n",
       "\n",
       "  AdWords Cost per Click (Ad Cost / Clicks)  \n",
       "0                                     $3.30  \n",
       "1                                     $1.05  \n",
       "2                                     $3.23  \n",
       "3                                     $2.86  \n",
       "4                                     $2.40  "
      ]
     },
     "execution_count": 4,
     "metadata": {},
     "output_type": "execute_result"
    }
   ],
   "source": [
    "df.head()"
   ]
  },
  {
   "cell_type": "code",
   "execution_count": 5,
   "id": "27565ca3",
   "metadata": {},
   "outputs": [
    {
     "data": {
      "text/plain": [
       "(365, 17)"
      ]
     },
     "execution_count": 5,
     "metadata": {},
     "output_type": "execute_result"
    }
   ],
   "source": [
    "df.shape"
   ]
  },
  {
   "cell_type": "code",
   "execution_count": 6,
   "id": "2dbd68d0",
   "metadata": {},
   "outputs": [
    {
     "data": {
      "text/plain": [
       "Date                                               object\n",
       "Facebook Ad Campaign                               object\n",
       "Facebook Ad Views                                   int64\n",
       "Facebook Ad Clicks                                  int64\n",
       "Facebook Ad Conversions                             int64\n",
       "Cost per Facebook Ad                               object\n",
       "Facebook Click-Through Rate (Clicks / View)        object\n",
       "Facebook Conversion Rate (Conversions / Clicks)    object\n",
       "Facebook Cost per Click (Ad Cost / Clicks)         object\n",
       "AdWords Ad Campaign                                object\n",
       "AdWords Ad Views                                    int64\n",
       "AdWords Ad Clicks                                   int64\n",
       "AdWords Ad Conversions                              int64\n",
       "Cost per AdWords Ad                                object\n",
       "AdWords Click-Through Rate (Clicks / View)         object\n",
       "AdWords Conversion Rate (Conversions / Click)      object\n",
       "AdWords Cost per Click (Ad Cost / Clicks)          object\n",
       "dtype: object"
      ]
     },
     "execution_count": 6,
     "metadata": {},
     "output_type": "execute_result"
    }
   ],
   "source": [
    "df.dtypes"
   ]
  },
  {
   "cell_type": "code",
   "execution_count": 7,
   "id": "8751fb21",
   "metadata": {},
   "outputs": [],
   "source": [
    "df['Date']=pd.to_datetime(df['Date'])"
   ]
  },
  {
   "cell_type": "code",
   "execution_count": 8,
   "id": "fd100653",
   "metadata": {},
   "outputs": [
    {
     "data": {
      "text/html": [
       "<div>\n",
       "<style scoped>\n",
       "    .dataframe tbody tr th:only-of-type {\n",
       "        vertical-align: middle;\n",
       "    }\n",
       "\n",
       "    .dataframe tbody tr th {\n",
       "        vertical-align: top;\n",
       "    }\n",
       "\n",
       "    .dataframe thead th {\n",
       "        text-align: right;\n",
       "    }\n",
       "</style>\n",
       "<table border=\"1\" class=\"dataframe\">\n",
       "  <thead>\n",
       "    <tr style=\"text-align: right;\">\n",
       "      <th></th>\n",
       "      <th>Date</th>\n",
       "      <th>Facebook Ad Campaign</th>\n",
       "      <th>Facebook Ad Views</th>\n",
       "      <th>Facebook Ad Clicks</th>\n",
       "      <th>Facebook Ad Conversions</th>\n",
       "      <th>Cost per Facebook Ad</th>\n",
       "      <th>Facebook Click-Through Rate (Clicks / View)</th>\n",
       "      <th>Facebook Conversion Rate (Conversions / Clicks)</th>\n",
       "      <th>Facebook Cost per Click (Ad Cost / Clicks)</th>\n",
       "      <th>AdWords Ad Campaign</th>\n",
       "      <th>AdWords Ad Views</th>\n",
       "      <th>AdWords Ad Clicks</th>\n",
       "      <th>AdWords Ad Conversions</th>\n",
       "      <th>Cost per AdWords Ad</th>\n",
       "      <th>AdWords Click-Through Rate (Clicks / View)</th>\n",
       "      <th>AdWords Conversion Rate (Conversions / Click)</th>\n",
       "      <th>AdWords Cost per Click (Ad Cost / Clicks)</th>\n",
       "    </tr>\n",
       "  </thead>\n",
       "  <tbody>\n",
       "    <tr>\n",
       "      <th>0</th>\n",
       "      <td>2019-01-01</td>\n",
       "      <td>FB_Jan19</td>\n",
       "      <td>2116</td>\n",
       "      <td>18</td>\n",
       "      <td>8</td>\n",
       "      <td>$126</td>\n",
       "      <td>0.83%</td>\n",
       "      <td>42.73%</td>\n",
       "      <td>$7.14</td>\n",
       "      <td>AW_Jan19</td>\n",
       "      <td>4984</td>\n",
       "      <td>59</td>\n",
       "      <td>5</td>\n",
       "      <td>$194</td>\n",
       "      <td>1.18%</td>\n",
       "      <td>8.40%</td>\n",
       "      <td>$3.30</td>\n",
       "    </tr>\n",
       "    <tr>\n",
       "      <th>1</th>\n",
       "      <td>2019-01-02</td>\n",
       "      <td>FB_Jan19</td>\n",
       "      <td>3106</td>\n",
       "      <td>36</td>\n",
       "      <td>12</td>\n",
       "      <td>$104</td>\n",
       "      <td>1.15%</td>\n",
       "      <td>34.04%</td>\n",
       "      <td>$2.91</td>\n",
       "      <td>AW_Jan19</td>\n",
       "      <td>4022</td>\n",
       "      <td>71</td>\n",
       "      <td>6</td>\n",
       "      <td>$75</td>\n",
       "      <td>1.77%</td>\n",
       "      <td>7.80%</td>\n",
       "      <td>$1.05</td>\n",
       "    </tr>\n",
       "    <tr>\n",
       "      <th>2</th>\n",
       "      <td>2019-01-03</td>\n",
       "      <td>FB_Jan19</td>\n",
       "      <td>3105</td>\n",
       "      <td>26</td>\n",
       "      <td>8</td>\n",
       "      <td>$102</td>\n",
       "      <td>0.84%</td>\n",
       "      <td>31.45%</td>\n",
       "      <td>$3.89</td>\n",
       "      <td>AW_Jan19</td>\n",
       "      <td>3863</td>\n",
       "      <td>44</td>\n",
       "      <td>4</td>\n",
       "      <td>$141</td>\n",
       "      <td>1.13%</td>\n",
       "      <td>9.59%</td>\n",
       "      <td>$3.23</td>\n",
       "    </tr>\n",
       "    <tr>\n",
       "      <th>3</th>\n",
       "      <td>2019-01-04</td>\n",
       "      <td>FB_Jan19</td>\n",
       "      <td>1107</td>\n",
       "      <td>27</td>\n",
       "      <td>9</td>\n",
       "      <td>$71</td>\n",
       "      <td>2.45%</td>\n",
       "      <td>34.76%</td>\n",
       "      <td>$2.62</td>\n",
       "      <td>AW_Jan19</td>\n",
       "      <td>3911</td>\n",
       "      <td>49</td>\n",
       "      <td>5</td>\n",
       "      <td>$141</td>\n",
       "      <td>1.26%</td>\n",
       "      <td>11.08%</td>\n",
       "      <td>$2.86</td>\n",
       "    </tr>\n",
       "    <tr>\n",
       "      <th>4</th>\n",
       "      <td>2019-01-05</td>\n",
       "      <td>FB_Jan19</td>\n",
       "      <td>1317</td>\n",
       "      <td>15</td>\n",
       "      <td>7</td>\n",
       "      <td>$78</td>\n",
       "      <td>1.10%</td>\n",
       "      <td>47.59%</td>\n",
       "      <td>$5.38</td>\n",
       "      <td>AW_Jan19</td>\n",
       "      <td>4070</td>\n",
       "      <td>55</td>\n",
       "      <td>7</td>\n",
       "      <td>$133</td>\n",
       "      <td>1.36%</td>\n",
       "      <td>12.22%</td>\n",
       "      <td>$2.40</td>\n",
       "    </tr>\n",
       "  </tbody>\n",
       "</table>\n",
       "</div>"
      ],
      "text/plain": [
       "        Date Facebook Ad Campaign  Facebook Ad Views  Facebook Ad Clicks  \\\n",
       "0 2019-01-01             FB_Jan19               2116                  18   \n",
       "1 2019-01-02             FB_Jan19               3106                  36   \n",
       "2 2019-01-03             FB_Jan19               3105                  26   \n",
       "3 2019-01-04             FB_Jan19               1107                  27   \n",
       "4 2019-01-05             FB_Jan19               1317                  15   \n",
       "\n",
       "   Facebook Ad Conversions Cost per Facebook Ad  \\\n",
       "0                        8                 $126   \n",
       "1                       12                 $104   \n",
       "2                        8                 $102   \n",
       "3                        9                  $71   \n",
       "4                        7                  $78   \n",
       "\n",
       "  Facebook Click-Through Rate (Clicks / View)  \\\n",
       "0                                       0.83%   \n",
       "1                                       1.15%   \n",
       "2                                       0.84%   \n",
       "3                                       2.45%   \n",
       "4                                       1.10%   \n",
       "\n",
       "  Facebook Conversion Rate (Conversions / Clicks)  \\\n",
       "0                                          42.73%   \n",
       "1                                          34.04%   \n",
       "2                                          31.45%   \n",
       "3                                          34.76%   \n",
       "4                                          47.59%   \n",
       "\n",
       "  Facebook Cost per Click (Ad Cost / Clicks) AdWords Ad Campaign  \\\n",
       "0                                      $7.14            AW_Jan19   \n",
       "1                                      $2.91            AW_Jan19   \n",
       "2                                      $3.89            AW_Jan19   \n",
       "3                                      $2.62            AW_Jan19   \n",
       "4                                      $5.38            AW_Jan19   \n",
       "\n",
       "   AdWords Ad Views  AdWords Ad Clicks  AdWords Ad Conversions  \\\n",
       "0              4984                 59                       5   \n",
       "1              4022                 71                       6   \n",
       "2              3863                 44                       4   \n",
       "3              3911                 49                       5   \n",
       "4              4070                 55                       7   \n",
       "\n",
       "  Cost per AdWords Ad AdWords Click-Through Rate (Clicks / View)  \\\n",
       "0                $194                                      1.18%   \n",
       "1                 $75                                      1.77%   \n",
       "2                $141                                      1.13%   \n",
       "3                $141                                      1.26%   \n",
       "4                $133                                      1.36%   \n",
       "\n",
       "  AdWords Conversion Rate (Conversions / Click)  \\\n",
       "0                                         8.40%   \n",
       "1                                         7.80%   \n",
       "2                                         9.59%   \n",
       "3                                        11.08%   \n",
       "4                                        12.22%   \n",
       "\n",
       "  AdWords Cost per Click (Ad Cost / Clicks)  \n",
       "0                                     $3.30  \n",
       "1                                     $1.05  \n",
       "2                                     $3.23  \n",
       "3                                     $2.86  \n",
       "4                                     $2.40  "
      ]
     },
     "execution_count": 8,
     "metadata": {},
     "output_type": "execute_result"
    }
   ],
   "source": [
    "df.head()"
   ]
  },
  {
   "cell_type": "code",
   "execution_count": 9,
   "id": "169c020c",
   "metadata": {},
   "outputs": [
    {
     "data": {
      "text/html": [
       "<div>\n",
       "<style scoped>\n",
       "    .dataframe tbody tr th:only-of-type {\n",
       "        vertical-align: middle;\n",
       "    }\n",
       "\n",
       "    .dataframe tbody tr th {\n",
       "        vertical-align: top;\n",
       "    }\n",
       "\n",
       "    .dataframe thead th {\n",
       "        text-align: right;\n",
       "    }\n",
       "</style>\n",
       "<table border=\"1\" class=\"dataframe\">\n",
       "  <thead>\n",
       "    <tr style=\"text-align: right;\">\n",
       "      <th></th>\n",
       "      <th>Date</th>\n",
       "      <th>Facebook Ad Views</th>\n",
       "      <th>Facebook Ad Clicks</th>\n",
       "      <th>Facebook Ad Conversions</th>\n",
       "      <th>AdWords Ad Views</th>\n",
       "      <th>AdWords Ad Clicks</th>\n",
       "      <th>AdWords Ad Conversions</th>\n",
       "    </tr>\n",
       "  </thead>\n",
       "  <tbody>\n",
       "    <tr>\n",
       "      <th>count</th>\n",
       "      <td>365</td>\n",
       "      <td>365.000000</td>\n",
       "      <td>365.000000</td>\n",
       "      <td>365.000000</td>\n",
       "      <td>365.00000</td>\n",
       "      <td>365.000000</td>\n",
       "      <td>365.000000</td>\n",
       "    </tr>\n",
       "    <tr>\n",
       "      <th>mean</th>\n",
       "      <td>2019-07-02 00:00:00</td>\n",
       "      <td>2179.687671</td>\n",
       "      <td>44.049315</td>\n",
       "      <td>11.742466</td>\n",
       "      <td>4717.19726</td>\n",
       "      <td>60.383562</td>\n",
       "      <td>5.980822</td>\n",
       "    </tr>\n",
       "    <tr>\n",
       "      <th>min</th>\n",
       "      <td>2019-01-01 00:00:00</td>\n",
       "      <td>1050.000000</td>\n",
       "      <td>15.000000</td>\n",
       "      <td>5.000000</td>\n",
       "      <td>3714.00000</td>\n",
       "      <td>31.000000</td>\n",
       "      <td>3.000000</td>\n",
       "    </tr>\n",
       "    <tr>\n",
       "      <th>25%</th>\n",
       "      <td>2019-04-02 00:00:00</td>\n",
       "      <td>1656.000000</td>\n",
       "      <td>35.000000</td>\n",
       "      <td>10.000000</td>\n",
       "      <td>4247.00000</td>\n",
       "      <td>49.000000</td>\n",
       "      <td>5.000000</td>\n",
       "    </tr>\n",
       "    <tr>\n",
       "      <th>50%</th>\n",
       "      <td>2019-07-02 00:00:00</td>\n",
       "      <td>2202.000000</td>\n",
       "      <td>43.000000</td>\n",
       "      <td>12.000000</td>\n",
       "      <td>4711.00000</td>\n",
       "      <td>60.000000</td>\n",
       "      <td>6.000000</td>\n",
       "    </tr>\n",
       "    <tr>\n",
       "      <th>75%</th>\n",
       "      <td>2019-10-01 00:00:00</td>\n",
       "      <td>2717.000000</td>\n",
       "      <td>54.000000</td>\n",
       "      <td>13.000000</td>\n",
       "      <td>5190.00000</td>\n",
       "      <td>73.000000</td>\n",
       "      <td>7.000000</td>\n",
       "    </tr>\n",
       "    <tr>\n",
       "      <th>max</th>\n",
       "      <td>2019-12-31 00:00:00</td>\n",
       "      <td>3320.000000</td>\n",
       "      <td>73.000000</td>\n",
       "      <td>19.000000</td>\n",
       "      <td>5760.00000</td>\n",
       "      <td>89.000000</td>\n",
       "      <td>9.000000</td>\n",
       "    </tr>\n",
       "    <tr>\n",
       "      <th>std</th>\n",
       "      <td>NaN</td>\n",
       "      <td>618.074639</td>\n",
       "      <td>12.140559</td>\n",
       "      <td>2.924786</td>\n",
       "      <td>561.11406</td>\n",
       "      <td>14.368225</td>\n",
       "      <td>1.628106</td>\n",
       "    </tr>\n",
       "  </tbody>\n",
       "</table>\n",
       "</div>"
      ],
      "text/plain": [
       "                      Date  Facebook Ad Views  Facebook Ad Clicks  \\\n",
       "count                  365         365.000000          365.000000   \n",
       "mean   2019-07-02 00:00:00        2179.687671           44.049315   \n",
       "min    2019-01-01 00:00:00        1050.000000           15.000000   \n",
       "25%    2019-04-02 00:00:00        1656.000000           35.000000   \n",
       "50%    2019-07-02 00:00:00        2202.000000           43.000000   \n",
       "75%    2019-10-01 00:00:00        2717.000000           54.000000   \n",
       "max    2019-12-31 00:00:00        3320.000000           73.000000   \n",
       "std                    NaN         618.074639           12.140559   \n",
       "\n",
       "       Facebook Ad Conversions  AdWords Ad Views  AdWords Ad Clicks  \\\n",
       "count               365.000000         365.00000         365.000000   \n",
       "mean                 11.742466        4717.19726          60.383562   \n",
       "min                   5.000000        3714.00000          31.000000   \n",
       "25%                  10.000000        4247.00000          49.000000   \n",
       "50%                  12.000000        4711.00000          60.000000   \n",
       "75%                  13.000000        5190.00000          73.000000   \n",
       "max                  19.000000        5760.00000          89.000000   \n",
       "std                   2.924786         561.11406          14.368225   \n",
       "\n",
       "       AdWords Ad Conversions  \n",
       "count              365.000000  \n",
       "mean                 5.980822  \n",
       "min                  3.000000  \n",
       "25%                  5.000000  \n",
       "50%                  6.000000  \n",
       "75%                  7.000000  \n",
       "max                  9.000000  \n",
       "std                  1.628106  "
      ]
     },
     "execution_count": 9,
     "metadata": {},
     "output_type": "execute_result"
    }
   ],
   "source": [
    "df.describe()"
   ]
  },
  {
   "cell_type": "code",
   "execution_count": 13,
   "id": "87c72258",
   "metadata": {},
   "outputs": [],
   "source": [
    "#comparing campaigns performance"
   ]
  },
  {
   "cell_type": "code",
   "execution_count": 14,
   "id": "9a87220b",
   "metadata": {},
   "outputs": [
    {
     "data": {
      "image/png": "[encoded data removed]",
      "text/plain": [
       "<Figure size 1500x600 with 2 Axes>"
      ]
     },
     "metadata": {},
     "output_type": "display_data"
    },
    {
     "data": {
      "image/png": "[encoded data removed]",
      "text/plain": [
       "<Figure size 1500x600 with 2 Axes>"
      ]
     },
     "metadata": {},
     "output_type": "display_data"
    }
   ],
   "source": [
    "plt.figure(figsize=(15,6))\n",
    "plt.subplot(1,2,1)\n",
    "plt.title('Facebook Ad Clicks')\n",
    "sns.histplot(df['Facebook Ad Clicks'],bins=7,edgecolor='k',kde=True)\n",
    "plt.subplot(1,2,2)\n",
    "plt.title('Facebook Ad Conversions')\n",
    "sns.histplot(df['Facebook Ad Conversions'],bins=7,edgecolor='k',kde=True)\n",
    "plt.show()\n",
    "\n",
    "plt.figure(figsize=(15,6))\n",
    "plt.subplot(1,2,1)\n",
    "plt.title('AdWords Ad Clicks')\n",
    "sns.histplot(df['AdWords Ad Clicks'],bins=7,edgecolor='k',kde=True)\n",
    "plt.subplot(1,2,2)\n",
    "plt.title('AdWords Ad Conversions')\n",
    "sns.histplot(df['AdWords Ad Conversions'],bins=7,edgecolor='k',kde=True)\n",
    "plt.show()"
   ]
  },
  {
   "cell_type": "code",
   "execution_count": 15,
   "id": "d90783ef",
   "metadata": {},
   "outputs": [],
   "source": [
    "def create_conversion_category(conversion_col):\n",
    "    category=[]\n",
    "    for conversion in df[conversion_col]:\n",
    "        if conversion < 6:\n",
    "           category.append('lessthan 6')\n",
    "        elif 6 <= conversion < 11:\n",
    "            category.append('6 - 10')\n",
    "        elif 11 <= conversion < 16:\n",
    "            category.append('10 - 15')\n",
    "        else:\n",
    "            category.append('more than 15')\n",
    "    return category  \n",
    "\n",
    "df['Facebook Conversion Category']=create_conversion_category('Facebook Ad Conversions')\n",
    "df['AdWords Conversion Category']=create_conversion_category('AdWords Ad Conversions')"
   ]
  },
  {
   "cell_type": "code",
   "execution_count": 16,
   "id": "83c874e0",
   "metadata": {},
   "outputs": [
    {
     "data": {
      "text/html": [
       "<div>\n",
       "<style scoped>\n",
       "    .dataframe tbody tr th:only-of-type {\n",
       "        vertical-align: middle;\n",
       "    }\n",
       "\n",
       "    .dataframe tbody tr th {\n",
       "        vertical-align: top;\n",
       "    }\n",
       "\n",
       "    .dataframe thead th {\n",
       "        text-align: right;\n",
       "    }\n",
       "</style>\n",
       "<table border=\"1\" class=\"dataframe\">\n",
       "  <thead>\n",
       "    <tr style=\"text-align: right;\">\n",
       "      <th></th>\n",
       "      <th>Facebook Ad Conversions</th>\n",
       "      <th>Facebook Conversion Category</th>\n",
       "      <th>AdWords Ad Conversions</th>\n",
       "      <th>AdWords Conversion Category</th>\n",
       "    </tr>\n",
       "  </thead>\n",
       "  <tbody>\n",
       "    <tr>\n",
       "      <th>0</th>\n",
       "      <td>8</td>\n",
       "      <td>6 - 10</td>\n",
       "      <td>5</td>\n",
       "      <td>lessthan 6</td>\n",
       "    </tr>\n",
       "    <tr>\n",
       "      <th>1</th>\n",
       "      <td>12</td>\n",
       "      <td>10 - 15</td>\n",
       "      <td>6</td>\n",
       "      <td>6 - 10</td>\n",
       "    </tr>\n",
       "    <tr>\n",
       "      <th>2</th>\n",
       "      <td>8</td>\n",
       "      <td>6 - 10</td>\n",
       "      <td>4</td>\n",
       "      <td>lessthan 6</td>\n",
       "    </tr>\n",
       "    <tr>\n",
       "      <th>3</th>\n",
       "      <td>9</td>\n",
       "      <td>6 - 10</td>\n",
       "      <td>5</td>\n",
       "      <td>lessthan 6</td>\n",
       "    </tr>\n",
       "    <tr>\n",
       "      <th>4</th>\n",
       "      <td>7</td>\n",
       "      <td>6 - 10</td>\n",
       "      <td>7</td>\n",
       "      <td>6 - 10</td>\n",
       "    </tr>\n",
       "  </tbody>\n",
       "</table>\n",
       "</div>"
      ],
      "text/plain": [
       "   Facebook Ad Conversions Facebook Conversion Category  \\\n",
       "0                        8                       6 - 10   \n",
       "1                       12                      10 - 15   \n",
       "2                        8                       6 - 10   \n",
       "3                        9                       6 - 10   \n",
       "4                        7                       6 - 10   \n",
       "\n",
       "   AdWords Ad Conversions AdWords Conversion Category  \n",
       "0                       5                  lessthan 6  \n",
       "1                       6                      6 - 10  \n",
       "2                       4                  lessthan 6  \n",
       "3                       5                  lessthan 6  \n",
       "4                       7                      6 - 10  "
      ]
     },
     "execution_count": 16,
     "metadata": {},
     "output_type": "execute_result"
    }
   ],
   "source": [
    "df[['Facebook Ad Conversions','Facebook Conversion Category','AdWords Ad Conversions','AdWords Conversion Category']].head()"
   ]
  },
  {
   "cell_type": "code",
   "execution_count": null,
   "id": "20accbea",
   "metadata": {},
   "outputs": [
    {
     "data": {
      "text/plain": [
       "10 - 15         189\n",
       "6 - 10          128\n",
       "more than 15     47\n",
       "lessthan 6        1\n",
       "Name: Facebook Conversion Category, dtype: int64"
      ]
     },
     "execution_count": 49,
     "metadata": {},
     "output_type": "execute_result"
    }
   ],
   "source": [
    "df['Facebook Conversion Category'].value_counts()"
   ]
  },
  {
   "cell_type": "code",
   "execution_count": null,
   "id": "7f0094f8",
   "metadata": {},
   "outputs": [
    {
     "data": {
      "text/html": [
       "<div>\n",
       "<style scoped>\n",
       "    .dataframe tbody tr th:only-of-type {\n",
       "        vertical-align: middle;\n",
       "    }\n",
       "\n",
       "    .dataframe tbody tr th {\n",
       "        vertical-align: top;\n",
       "    }\n",
       "\n",
       "    .dataframe thead th {\n",
       "        text-align: right;\n",
       "    }\n",
       "</style>\n",
       "<table border=\"1\" class=\"dataframe\">\n",
       "  <thead>\n",
       "    <tr style=\"text-align: right;\">\n",
       "      <th></th>\n",
       "      <th>Category</th>\n",
       "      <th>Count</th>\n",
       "    </tr>\n",
       "  </thead>\n",
       "  <tbody>\n",
       "    <tr>\n",
       "      <th>0</th>\n",
       "      <td>10 - 15</td>\n",
       "      <td>189</td>\n",
       "    </tr>\n",
       "    <tr>\n",
       "      <th>1</th>\n",
       "      <td>6 - 10</td>\n",
       "      <td>128</td>\n",
       "    </tr>\n",
       "    <tr>\n",
       "      <th>2</th>\n",
       "      <td>more than 15</td>\n",
       "      <td>47</td>\n",
       "    </tr>\n",
       "    <tr>\n",
       "      <th>3</th>\n",
       "      <td>lessthan 6</td>\n",
       "      <td>1</td>\n",
       "    </tr>\n",
       "  </tbody>\n",
       "</table>\n",
       "</div>"
      ],
      "text/plain": [
       "       Category  Count\n",
       "0       10 - 15    189\n",
       "1        6 - 10    128\n",
       "2  more than 15     47\n",
       "3    lessthan 6      1"
      ]
     },
     "execution_count": 53,
     "metadata": {},
     "output_type": "execute_result"
    }
   ],
   "source": [
    "facebook = (\n",
    "    df['Facebook Conversion Category']\n",
    "    .value_counts()\n",
    "    .reset_index()\n",
    "    .rename(columns={'index': 'Category', 'Facebook Conversion Category': 'Count'})\n",
    ")\n",
    "facebook"
   ]
  },
  {
   "cell_type": "code",
   "execution_count": null,
   "id": "9dfffe34",
   "metadata": {},
   "outputs": [
    {
     "data": {
      "text/plain": [
       "6 - 10        209\n",
       "lessthan 6    156\n",
       "Name: AdWords Conversion Category, dtype: int64"
      ]
     },
     "execution_count": 54,
     "metadata": {},
     "output_type": "execute_result"
    }
   ],
   "source": [
    "df['AdWords Conversion Category'].value_counts()"
   ]
  },
  {
   "cell_type": "code",
   "execution_count": null,
   "id": "7045ce6d",
   "metadata": {},
   "outputs": [
    {
     "data": {
      "text/html": [
       "<div>\n",
       "<style scoped>\n",
       "    .dataframe tbody tr th:only-of-type {\n",
       "        vertical-align: middle;\n",
       "    }\n",
       "\n",
       "    .dataframe tbody tr th {\n",
       "        vertical-align: top;\n",
       "    }\n",
       "\n",
       "    .dataframe thead th {\n",
       "        text-align: right;\n",
       "    }\n",
       "</style>\n",
       "<table border=\"1\" class=\"dataframe\">\n",
       "  <thead>\n",
       "    <tr style=\"text-align: right;\">\n",
       "      <th></th>\n",
       "      <th>Category</th>\n",
       "      <th>Count</th>\n",
       "    </tr>\n",
       "  </thead>\n",
       "  <tbody>\n",
       "    <tr>\n",
       "      <th>0</th>\n",
       "      <td>6 - 10</td>\n",
       "      <td>209</td>\n",
       "    </tr>\n",
       "    <tr>\n",
       "      <th>1</th>\n",
       "      <td>lessthan 6</td>\n",
       "      <td>156</td>\n",
       "    </tr>\n",
       "  </tbody>\n",
       "</table>\n",
       "</div>"
      ],
      "text/plain": [
       "     Category  Count\n",
       "0      6 - 10    209\n",
       "1  lessthan 6    156"
      ]
     },
     "execution_count": 55,
     "metadata": {},
     "output_type": "execute_result"
    }
   ],
   "source": [
    "adwords = (\n",
    "    df['AdWords Conversion Category']\n",
    "    .value_counts()\n",
    "    .reset_index()\n",
    "    .rename(columns={'index': 'Category', 'AdWords Conversion Category': 'Count'})\n",
    ")\n",
    "adwords"
   ]
  },
  {
   "cell_type": "code",
   "execution_count": null,
   "id": "50004a89",
   "metadata": {},
   "outputs": [
    {
     "data": {
      "text/html": [
       "<div>\n",
       "<style scoped>\n",
       "    .dataframe tbody tr th:only-of-type {\n",
       "        vertical-align: middle;\n",
       "    }\n",
       "\n",
       "    .dataframe tbody tr th {\n",
       "        vertical-align: top;\n",
       "    }\n",
       "\n",
       "    .dataframe thead th {\n",
       "        text-align: right;\n",
       "    }\n",
       "</style>\n",
       "<table border=\"1\" class=\"dataframe\">\n",
       "  <thead>\n",
       "    <tr style=\"text-align: right;\">\n",
       "      <th></th>\n",
       "      <th>Category</th>\n",
       "      <th>Count_x</th>\n",
       "      <th>Count_y</th>\n",
       "    </tr>\n",
       "  </thead>\n",
       "  <tbody>\n",
       "    <tr>\n",
       "      <th>0</th>\n",
       "      <td>10 - 15</td>\n",
       "      <td>189</td>\n",
       "      <td>0.0</td>\n",
       "    </tr>\n",
       "    <tr>\n",
       "      <th>1</th>\n",
       "      <td>6 - 10</td>\n",
       "      <td>128</td>\n",
       "      <td>209.0</td>\n",
       "    </tr>\n",
       "    <tr>\n",
       "      <th>2</th>\n",
       "      <td>more than 15</td>\n",
       "      <td>47</td>\n",
       "      <td>0.0</td>\n",
       "    </tr>\n",
       "    <tr>\n",
       "      <th>3</th>\n",
       "      <td>lessthan 6</td>\n",
       "      <td>1</td>\n",
       "      <td>156.0</td>\n",
       "    </tr>\n",
       "  </tbody>\n",
       "</table>\n",
       "</div>"
      ],
      "text/plain": [
       "       Category  Count_x  Count_y\n",
       "0       10 - 15      189      0.0\n",
       "1        6 - 10      128    209.0\n",
       "2  more than 15       47      0.0\n",
       "3    lessthan 6        1    156.0"
      ]
     },
     "execution_count": 61,
     "metadata": {},
     "output_type": "execute_result"
    }
   ],
   "source": [
    "category_df = pd.merge(facebook, adwords, on = 'Category', how = 'outer').fillna(0)\n",
    "category_df"
   ]
  },
  {
   "cell_type": "code",
   "execution_count": null,
   "id": "08c2648f",
   "metadata": {},
   "outputs": [
    {
     "data": {
      "text/html": [
       "<div>\n",
       "<style scoped>\n",
       "    .dataframe tbody tr th:only-of-type {\n",
       "        vertical-align: middle;\n",
       "    }\n",
       "\n",
       "    .dataframe tbody tr th {\n",
       "        vertical-align: top;\n",
       "    }\n",
       "\n",
       "    .dataframe thead th {\n",
       "        text-align: right;\n",
       "    }\n",
       "</style>\n",
       "<table border=\"1\" class=\"dataframe\">\n",
       "  <thead>\n",
       "    <tr style=\"text-align: right;\">\n",
       "      <th></th>\n",
       "      <th>Category</th>\n",
       "      <th>Count_x</th>\n",
       "      <th>Count_y</th>\n",
       "    </tr>\n",
       "  </thead>\n",
       "  <tbody>\n",
       "    <tr>\n",
       "      <th>3</th>\n",
       "      <td>lessthan 6</td>\n",
       "      <td>1</td>\n",
       "      <td>156.0</td>\n",
       "    </tr>\n",
       "    <tr>\n",
       "      <th>1</th>\n",
       "      <td>6 - 10</td>\n",
       "      <td>128</td>\n",
       "      <td>209.0</td>\n",
       "    </tr>\n",
       "    <tr>\n",
       "      <th>0</th>\n",
       "      <td>10 - 15</td>\n",
       "      <td>189</td>\n",
       "      <td>0.0</td>\n",
       "    </tr>\n",
       "    <tr>\n",
       "      <th>2</th>\n",
       "      <td>more than 15</td>\n",
       "      <td>47</td>\n",
       "      <td>0.0</td>\n",
       "    </tr>\n",
       "  </tbody>\n",
       "</table>\n",
       "</div>"
      ],
      "text/plain": [
       "       Category  Count_x  Count_y\n",
       "3    lessthan 6        1    156.0\n",
       "1        6 - 10      128    209.0\n",
       "0       10 - 15      189      0.0\n",
       "2  more than 15       47      0.0"
      ]
     },
     "execution_count": 62,
     "metadata": {},
     "output_type": "execute_result"
    }
   ],
   "source": [
    "category_df=category_df.iloc[[3,1,0,2]]\n",
    "category_df"
   ]
  },
  {
   "cell_type": "code",
   "execution_count": null,
   "id": "0e44aa26",
   "metadata": {},
   "outputs": [],
   "source": []
  },
  {
   "cell_type": "code",
   "execution_count": null,
   "id": "efd0f8df",
   "metadata": {},
   "outputs": [
    {
     "data": {
      "image/png": "[encoded data removed]",
      "text/plain": [
       "<Figure size 1500x600 with 1 Axes>"
      ]
     },
     "metadata": {},
     "output_type": "display_data"
    }
   ],
   "source": [
    "X_axis = np.arange(len(category_df)) \n",
    "plt.figure(figsize = (15,6))\n",
    "plt.bar(X_axis - 0.2, category_df['Count_x'], 0.4, label = 'Facebook', color = '#03989E', linewidth = 1, edgecolor = 'k') \n",
    "plt.bar(X_axis + 0.2, category_df['Count_y'], 0.4, label = 'Adwords', color = '#A62372', linewidth = 1, edgecolor = 'k') \n",
    "  \n",
    "plt.xticks(X_axis, category_df['Category']) \n",
    "plt.xlabel(\"Conversion Category\") \n",
    "plt.ylabel(\"Number of days\") \n",
    "plt.title(\"Frequency of Daily Conversions by Conversion Categories\", fontsize = 15) \n",
    "plt.legend(fontsize = 15) \n",
    "plt.show() "
   ]
  },
  {
   "cell_type": "code",
   "execution_count": null,
   "id": "6c778b46",
   "metadata": {},
   "outputs": [],
   "source": [
    "how click is related to sale, do more clicks on the add really lead to more sales"
   ]
  },
  {
   "cell_type": "code",
   "execution_count": null,
   "id": "b06f8112",
   "metadata": {},
   "outputs": [
    {
     "data": {
      "image/png": "[encoded data removed]",
      "text/plain": [
       "<Figure size 1500x600 with 2 Axes>"
      ]
     },
     "metadata": {},
     "output_type": "display_data"
    }
   ],
   "source": [
    "plt.figure(figsize=(15,6))\n",
    "plt.subplot(1,2,1)\n",
    "plt.title('Facebook')\n",
    "sns.scatterplot(x = df['Facebook Ad Clicks'],y = df['Facebook Ad Conversions'], color = '#03989E')\n",
    "plt.xlabel('Clicks')\n",
    "plt.ylabel('Conversions')\n",
    "plt.subplot(1,2,2)\n",
    "plt.title('AdWords')\n",
    "sns.scatterplot(x = df['AdWords Ad Clicks'],y = df['AdWords Ad Conversions'], color = '#03989E')\n",
    "plt.xlabel('Clicks')\n",
    "plt.ylabel('Conversions')\n",
    "plt.show()"
   ]
  },
  {
   "cell_type": "code",
   "execution_count": null,
   "id": "baac6612",
   "metadata": {},
   "outputs": [
    {
     "data": {
      "text/html": [
       "<div>\n",
       "<style scoped>\n",
       "    .dataframe tbody tr th:only-of-type {\n",
       "        vertical-align: middle;\n",
       "    }\n",
       "\n",
       "    .dataframe tbody tr th {\n",
       "        vertical-align: top;\n",
       "    }\n",
       "\n",
       "    .dataframe thead th {\n",
       "        text-align: right;\n",
       "    }\n",
       "</style>\n",
       "<table border=\"1\" class=\"dataframe\">\n",
       "  <thead>\n",
       "    <tr style=\"text-align: right;\">\n",
       "      <th></th>\n",
       "      <th>Facebook Ad Conversions</th>\n",
       "      <th>Facebook Ad Clicks</th>\n",
       "    </tr>\n",
       "  </thead>\n",
       "  <tbody>\n",
       "    <tr>\n",
       "      <th>Facebook Ad Conversions</th>\n",
       "      <td>1.000000</td>\n",
       "      <td>0.873775</td>\n",
       "    </tr>\n",
       "    <tr>\n",
       "      <th>Facebook Ad Clicks</th>\n",
       "      <td>0.873775</td>\n",
       "      <td>1.000000</td>\n",
       "    </tr>\n",
       "  </tbody>\n",
       "</table>\n",
       "</div>"
      ],
      "text/plain": [
       "                         Facebook Ad Conversions  Facebook Ad Clicks\n",
       "Facebook Ad Conversions                 1.000000            0.873775\n",
       "Facebook Ad Clicks                      0.873775            1.000000"
      ]
     },
     "execution_count": 75,
     "metadata": {},
     "output_type": "execute_result"
    }
   ],
   "source": [
    "facebook_corr = df[['Facebook Ad Conversions','Facebook Ad Clicks']].corr()\n",
    "facebook_corr"
   ]
  },
  {
   "cell_type": "code",
   "execution_count": null,
   "id": "260ce569",
   "metadata": {},
   "outputs": [
    {
     "data": {
      "text/html": [
       "<div>\n",
       "<style scoped>\n",
       "    .dataframe tbody tr th:only-of-type {\n",
       "        vertical-align: middle;\n",
       "    }\n",
       "\n",
       "    .dataframe tbody tr th {\n",
       "        vertical-align: top;\n",
       "    }\n",
       "\n",
       "    .dataframe thead th {\n",
       "        text-align: right;\n",
       "    }\n",
       "</style>\n",
       "<table border=\"1\" class=\"dataframe\">\n",
       "  <thead>\n",
       "    <tr style=\"text-align: right;\">\n",
       "      <th></th>\n",
       "      <th>AdWords Ad Conversions</th>\n",
       "      <th>AdWords Ad Clicks</th>\n",
       "    </tr>\n",
       "  </thead>\n",
       "  <tbody>\n",
       "    <tr>\n",
       "      <th>AdWords Ad Conversions</th>\n",
       "      <td>1.000000</td>\n",
       "      <td>0.447993</td>\n",
       "    </tr>\n",
       "    <tr>\n",
       "      <th>AdWords Ad Clicks</th>\n",
       "      <td>0.447993</td>\n",
       "      <td>1.000000</td>\n",
       "    </tr>\n",
       "  </tbody>\n",
       "</table>\n",
       "</div>"
      ],
      "text/plain": [
       "                        AdWords Ad Conversions  AdWords Ad Clicks\n",
       "AdWords Ad Conversions                1.000000           0.447993\n",
       "AdWords Ad Clicks                     0.447993           1.000000"
      ]
     },
     "execution_count": 76,
     "metadata": {},
     "output_type": "execute_result"
    }
   ],
   "source": [
    "adwords_corr = df[['AdWords Ad Conversions','AdWords Ad Clicks']].corr()\n",
    "adwords_corr"
   ]
  },
  {
   "cell_type": "code",
   "execution_count": null,
   "id": "c24f2ee3",
   "metadata": {},
   "outputs": [
    {
     "name": "stdout",
     "output_type": "stream",
     "text": [
      "Correlation Coeff \n",
      "--------------\n",
      "Facebook : 0.87\n",
      "AdWords :  0.45\n"
     ]
    }
   ],
   "source": [
    "print('Correlation Coeff \\n--------------')\n",
    "print('Facebook :',round(facebook_corr.values[0,1],2))\n",
    "print('AdWords : ',round(adwords_corr.values[0,1],2))"
   ]
  },
  {
   "cell_type": "code",
   "execution_count": null,
   "id": "b49493cd",
   "metadata": {},
   "outputs": [],
   "source": [
    "hypothesis testing"
   ]
  },
  {
   "cell_type": "code",
   "execution_count": null,
   "id": "ac92f784",
   "metadata": {},
   "outputs": [],
   "source": [
    "print('Mean Conversion \\n--------------')\n",
    "print('Facebook :', round(df['Facebook Ad Conversions'].mean(),2))\n",
    "print('AdWords :', round(df['AdWords Ad Conversions'].mean(),2))\n",
    "\n",
    "t_stats, p_value = st.ttest_ind(a = df['Facebook Ad Conversions'], b = df['AdWords Ad Conversions'], equal_var = False)\n",
    "print('\\nT statistic', t_stats, '\\np-value',p_value)\n",
    "\n",
    "# comparing the p value with the significance of 5% or 0.05\n",
    "if p_value < 0.05:\n",
    "    print(\"\\np-value is less than significance value, Reject the null hypothesis\")\n",
    "else:\n",
    "    print(\"\\np-value is greater than significance value, Accept the null hypothesis\")"
   ]
  },
  {
   "cell_type": "code",
   "execution_count": null,
   "id": "3f631de5",
   "metadata": {},
   "outputs": [],
   "source": [
    "Regression Analysis"
   ]
  },
  {
   "cell_type": "code",
   "execution_count": null,
   "id": "e85cb064",
   "metadata": {},
   "outputs": [],
   "source": [
    " #independent variable\n",
    "X = df[['Facebook Ad Clicks']]\n",
    "\n",
    "# dependent variable\n",
    "y = df[['Facebook Ad Conversions']]\n",
    "\n",
    "# initializing and fitting Linear Regression model\n",
    "reg_model = LinearRegression()\n",
    "reg_model.fit(X,y)\n",
    "prediction = reg_model.predict(X)\n",
    "\n",
    "# model evaluation\n",
    "r2 = r2_score(y, prediction)*100\n",
    "mse = mean_squared_error(y, prediction)\n",
    "print('Accuracy (R2 Score):',round(r2,2),'%')\n",
    "print('Mean Squared Error:', round(mse,2))"
   ]
  },
  {
   "cell_type": "code",
   "execution_count": null,
   "id": "f28ab97d",
   "metadata": {},
   "outputs": [],
   "source": [
    "plt.figure(figsize=(8,6))\n",
    "sns.scatterplot(x = df['Facebook Ad Clicks'],y = df['Facebook Ad Conversions'], color = '#03989E', label = 'Actual data points')\n",
    "plt.plot(df['Facebook Ad Clicks'], prediction, color = '#A62372', label = 'Best fit line')\n",
    "plt.legend()\n",
    "plt.show()"
   ]
  },
  {
   "cell_type": "code",
   "execution_count": null,
   "id": "082fa677",
   "metadata": {},
   "outputs": [],
   "source": [
    "print(f'For {50} Clicks, Expected Conversion : {round(reg_model.predict([[50]])[0][0],2)}')\n",
    "print(f'For {80} Clicks, Expected Conversion : {round(reg_model.predict([[80]])[0][0],2)}')"
   ]
  },
  {
   "cell_type": "code",
   "execution_count": null,
   "id": "ff81b64a",
   "metadata": {},
   "outputs": [],
   "source": [
    "Analyzing Facebook Campaign metrics over time."
   ]
  },
  {
   "cell_type": "code",
   "execution_count": null,
   "id": "d0257b39",
   "metadata": {},
   "outputs": [],
   "source": [
    "# cleaning data ( removing unwanted symbols from the columns and converting them to numerical columns)\n",
    "df['Facebook Click-Through Rate (Clicks / View)'] = df['Facebook Click-Through Rate (Clicks / View)'].apply(lambda x: float(x[:-1]))\n",
    "df['Facebook Conversion Rate (Conversions / Clicks)'] = df['Facebook Conversion Rate (Conversions / Clicks)'].apply(lambda x: float(x[:-1]))\n",
    "df['Facebook Cost per Click (Ad Cost / Clicks)'] = df['Facebook Cost per Click (Ad Cost / Clicks)'].apply(lambda x: float(x[1:]))\n",
    "df['Cost per Facebook Ad'] = df['Cost per Facebook Ad'].apply(lambda x: float(x[1:]))"
   ]
  },
  {
   "cell_type": "code",
   "execution_count": null,
   "id": "1e09ac89",
   "metadata": {},
   "outputs": [],
   "source": [
    "# filtering for facebook campaign\n",
    "df = df[['Date','Facebook Ad Views',\n",
    "       'Facebook Ad Clicks', 'Facebook Ad Conversions', 'Cost per Facebook Ad',\n",
    "       'Facebook Click-Through Rate (Clicks / View)',\n",
    "       'Facebook Conversion Rate (Conversions / Clicks)',\n",
    "       'Facebook Cost per Click (Ad Cost / Clicks)']]\n",
    "\n",
    "df.head()"
   ]
  },
  {
   "cell_type": "code",
   "execution_count": null,
   "id": "adc7cbb8",
   "metadata": {},
   "outputs": [],
   "source": [
    "# extracting month and week day from the date column\n",
    "df['month'] = df['Date'].dt.month\n",
    "df['week'] = df['Date'].dt.weekday"
   ]
  },
  {
   "cell_type": "code",
   "execution_count": null,
   "id": "d1ffaa0a",
   "metadata": {},
   "outputs": [],
   "source": [
    "plt.figure(figsize=(8,5))\n",
    "plt.title('Weekly Conversions')\n",
    "weekly_conversion = df.groupby('week')[['Facebook Ad Conversions']].sum()\n",
    "week_names= ['Sunday','Monday','Tuesday','Wednesday','Thursday','Friday','Saturday']\n",
    "plt.bar(week_names, weekly_conversion['Facebook Ad Conversions'], color = '#03989E', edgecolor = 'k')\n",
    "plt.show()"
   ]
  },
  {
   "cell_type": "code",
   "execution_count": null,
   "id": "f9e9b8a6",
   "metadata": {},
   "outputs": [],
   "source": [
    "plt.figure(figsize=(8,5))\n",
    "plt.title('Monthly Conversions')\n",
    "monthly_conversion = df.groupby('month')[['Facebook Ad Conversions']].sum()\n",
    "month_names = ['Jan','Feb','Mar','Apr','May','Jun','Jul','Aug','Sep','Oct','Nov','Dec']\n",
    "plt.plot(month_names, monthly_conversion['Facebook Ad Conversions'],'-o', color = '#A62372')\n",
    "plt.show()"
   ]
  },
  {
   "cell_type": "code",
   "execution_count": null,
   "id": "25cba97e",
   "metadata": {},
   "outputs": [],
   "source": [
    "plt.figure(figsize=(8,5))\n",
    "plt.title('Monthly Cost Per Conversion (CPC)')\n",
    "monthly_df = df.groupby('month')[['Facebook Ad Conversions','Cost per Facebook Ad']].sum()\n",
    "monthly_df['Cost per Conversion'] = monthly_df['Cost per Facebook Ad']/monthly_df['Facebook Ad Conversions']\n",
    "plt.plot(month_names, monthly_df['Cost per Conversion'],'-o', color = '#A62372')\n",
    "plt.show()"
   ]
  },
  {
   "cell_type": "code",
   "execution_count": null,
   "id": "f630c03a",
   "metadata": {},
   "outputs": [],
   "source": [
    "score, p_value, _ = coint(df['Cost per Facebook Ad'], df['Facebook Ad Conversions'])\n",
    "print('Cointegration test score:', score)\n",
    "print('P-value:', p_value)\n",
    "if p_value < 0.05:\n",
    "    print(\"\\np-value is less than significance value, Reject the null hypothesis\")\n",
    "else:\n",
    "    print(\"\\np-value is greater than significance value, Accept the null hypothesis\")"
   ]
  },
  {
   "cell_type": "code",
   "execution_count": null,
   "id": "fe4e6c54",
   "metadata": {},
   "outputs": [],
   "source": [
    "Regression analysis"
   ]
  },
  {
   "cell_type": "code",
   "execution_count": null,
   "id": "dc7f7a72",
   "metadata": {},
   "outputs": [],
   "source": []
  },
  {
   "cell_type": "markdown",
   "id": "fac6dcac",
   "metadata": {},
   "source": []
  },
  {
   "cell_type": "code",
   "execution_count": null,
   "id": "6103c885",
   "metadata": {},
   "outputs": [],
   "source": []
  },
  {
   "cell_type": "code",
   "execution_count": null,
   "id": "5ab423ba",
   "metadata": {},
   "outputs": [],
   "source": []
  }
 ],
 "metadata": {
  "kernelspec": {
   "display_name": ".venv (3.12.4)",
   "language": "python",
   "name": "python3"
  },
  "language_info": {
   "codemirror_mode": {
    "name": "ipython",
    "version": 3
   },
   "file_extension": ".py",
   "mimetype": "text/x-python",
   "name": "python",
   "nbconvert_exporter": "python",
   "pygments_lexer": "ipython3",
   "version": "3.12.4"
  }
 },
 "nbformat": 4,
 "nbformat_minor": 5
}
